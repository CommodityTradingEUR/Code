{
 "cells": [
  {
   "cell_type": "code",
   "execution_count": 1,
   "metadata": {
    "collapsed": true
   },
   "outputs": [],
   "source": [
    "import pandas as pd\n",
    "import pandas_datareader as pdr\n",
    "import pandas_datareader.data as web\n",
    "import datetime \n",
    "import numpy as np\n",
    "from datetime import datetime\n",
    "import matplotlib.pyplot as plt"
   ]
  },
  {
   "cell_type": "code",
   "execution_count": 2,
   "metadata": {
    "collapsed": true
   },
   "outputs": [],
   "source": [
    "start='2001-01'\n",
    "end='2017-12'"
   ]
  },
  {
   "cell_type": "code",
   "execution_count": 23,
   "metadata": {
    "collapsed": true
   },
   "outputs": [],
   "source": [
    "kor = web.DataReader(\"QKRR628BIS\",'fred',start, end)\n",
    "us10 = web.DataReader(\"SPCS10RNSA\",'fred',start, end)\n",
    "usn = web.DataReader(\"NYXRNSA\",'fred',start, end)\n",
    "jap = web.DataReader(\"QJPR628BIS\",'fred',start, end)\n",
    "eur = web.DataReader(\"QXMR628BIS\", 'fred',start,end)\n",
    "emg = web.DataReader(\"Q4TR628BIS\", 'fred',start,end)"
   ]
  },
  {
   "cell_type": "code",
   "execution_count": 5,
   "metadata": {},
   "outputs": [
    {
     "data": {
      "text/html": [
       "<div>\n",
       "<style>\n",
       "    .dataframe thead tr:only-child th {\n",
       "        text-align: right;\n",
       "    }\n",
       "\n",
       "    .dataframe thead th {\n",
       "        text-align: left;\n",
       "    }\n",
       "\n",
       "    .dataframe tbody tr th {\n",
       "        vertical-align: top;\n",
       "    }\n",
       "</style>\n",
       "<table border=\"1\" class=\"dataframe\">\n",
       "  <thead>\n",
       "    <tr style=\"text-align: right;\">\n",
       "      <th></th>\n",
       "      <th>SPCS10RNSA</th>\n",
       "    </tr>\n",
       "    <tr>\n",
       "      <th>DATE</th>\n",
       "      <th></th>\n",
       "    </tr>\n",
       "  </thead>\n",
       "  <tbody>\n",
       "    <tr>\n",
       "      <th>2001-01-01</th>\n",
       "      <td>114.58</td>\n",
       "    </tr>\n",
       "    <tr>\n",
       "      <th>2002-01-01</th>\n",
       "      <td>123.93</td>\n",
       "    </tr>\n",
       "    <tr>\n",
       "      <th>2003-01-01</th>\n",
       "      <td>142.86</td>\n",
       "    </tr>\n",
       "    <tr>\n",
       "      <th>2004-01-01</th>\n",
       "      <td>162.90</td>\n",
       "    </tr>\n",
       "    <tr>\n",
       "      <th>2005-01-01</th>\n",
       "      <td>193.35</td>\n",
       "    </tr>\n",
       "  </tbody>\n",
       "</table>\n",
       "</div>"
      ],
      "text/plain": [
       "            SPCS10RNSA\n",
       "DATE                  \n",
       "2001-01-01      114.58\n",
       "2002-01-01      123.93\n",
       "2003-01-01      142.86\n",
       "2004-01-01      162.90\n",
       "2005-01-01      193.35"
      ]
     },
     "execution_count": 5,
     "metadata": {},
     "output_type": "execute_result"
    }
   ],
   "source": [
    "us10q = us10.asfreq('QS')\n",
    "us10q.head()"
   ]
  },
  {
   "cell_type": "code",
   "execution_count": 24,
   "metadata": {
    "collapsed": true
   },
   "outputs": [],
   "source": [
    "kor_y = kor.asfreq('AS')\n",
    "us10_y = us10.asfreq('AS')\n",
    "usn_y = usn.asfreq('AS')\n",
    "jap_y = jap.asfreq('AS')\n",
    "eur_y = eur.asfreq('AS')\n",
    "emg_y = emg.asfreq('AS')"
   ]
  },
  {
   "cell_type": "code",
   "execution_count": 64,
   "metadata": {},
   "outputs": [
    {
     "name": "stdout",
     "output_type": "stream",
     "text": [
      "            QKRR628BIS       Ret\n",
      "DATE                            \n",
      "2014-01-01       99.86  0.000000\n",
      "2014-04-01      100.03  0.170238\n",
      "2014-07-01      100.16  0.129961\n",
      "2014-10-01      101.31  1.148163\n",
      "2015-01-01      101.36  0.049353\n",
      "            SPCS10RNSA       Ret\n",
      "DATE                            \n",
      "2014-01-01      179.94  0.000000\n",
      "2014-04-01      183.34  1.889519\n",
      "2014-07-01      188.28  2.694447\n",
      "2014-10-01      188.07 -0.111536\n",
      "2015-01-01      187.38 -0.366885\n",
      "            NYXRNSA       Ret\n",
      "DATE                         \n",
      "2014-01-01   171.97  0.000000\n",
      "2014-02-01   171.29 -0.395418\n",
      "2014-03-01   170.61 -0.396988\n",
      "2014-04-01   170.80  0.111365\n",
      "2014-05-01   172.29  0.872365\n",
      "            QJPR628BIS       Ret\n",
      "DATE                            \n",
      "2014-01-01      101.72  0.000000\n",
      "2014-04-01       98.78 -2.890287\n",
      "2014-07-01       99.07  0.293582\n",
      "2014-10-01       98.85 -0.222065\n",
      "2015-01-01      101.76  2.943854\n"
     ]
    }
   ],
   "source": [
    "kor['Ret']=(kor['QKRR628BIS'].diff()/kor['QKRR628BIS'].shift(1))*100\n",
    "kor['Ret'][0:1]=0\n",
    "print(kor.head())\n",
    "us10q['Ret']=(us10q['SPCS10RNSA'].diff()/us10q['SPCS10RNSA'].shift(1))*100\n",
    "us10q['Ret'][0:1]=0\n",
    "print(us10q.head())\n",
    "usn['Ret']=(usn['NYXRNSA'].diff()/usn['NYXRNSA'].shift(1))*100\n",
    "usn['Ret'][0:1]=0\n",
    "print(usn.head())\n",
    "jap['Ret']=(jap['QJPR628BIS'].diff()/jap['QJPR628BIS'].shift(1))*100\n",
    "jap['Ret'][0:1]=0\n",
    "print(jap.head())"
   ]
  },
  {
   "cell_type": "code",
   "execution_count": 65,
   "metadata": {},
   "outputs": [
    {
     "data": {
      "image/png": "[encoded data removed]",
      "text/plain": [
       "<matplotlib.figure.Figure at 0x9ccfe10>"
      ]
     },
     "metadata": {},
     "output_type": "display_data"
    }
   ],
   "source": [
    "fig = plt.figure(figsize=(7,3)); ax = fig.add_subplot(1, 1, 1)\n",
    "ax.plot(usn['Ret'].cumsum(), 'k', label='US')\n",
    "#ax.plot(us10q['Ret'].cumsum(), 'k^', label='US')\n",
    "ax.plot(kor['Ret'].cumsum(), 'b', label='KOR')\n",
    "ax.plot(jap['Ret'].cumsum(), 'r', label='JAP')\n",
    "#ax.set_xlim(['01/01/2016', '01/01/2018'])\n",
    "ax.legend(loc='best')\n",
    "plt.show()"
   ]
  },
  {
   "cell_type": "code",
   "execution_count": 66,
   "metadata": {},
   "outputs": [
    {
     "data": {
      "text/plain": [
       "0.078323227272823315"
      ]
     },
     "execution_count": 66,
     "metadata": {},
     "output_type": "execute_result"
    }
   ],
   "source": [
    "us10q['Ret'].corr(kor['Ret'])"
   ]
  },
  {
   "cell_type": "code",
   "execution_count": 67,
   "metadata": {},
   "outputs": [
    {
     "data": {
      "image/png": "[encoded data removed]",
      "text/plain": [
       "<matplotlib.figure.Figure at 0x9ccf4a8>"
      ]
     },
     "metadata": {},
     "output_type": "display_data"
    }
   ],
   "source": [
    "fig = plt.figure(figsize=(7,3)); ax = fig.add_subplot(1, 1, 1)\n",
    "ax.plot(kor, 'k', label='KOR')\n",
    "ax.plot(jap, 'b', label='JAP')\n",
    "ax.set_xlim(['03/03/2008', '01/02/2017'])\n",
    "ax.legend(loc='best')\n",
    "plt.show()"
   ]
  },
  {
   "cell_type": "code",
   "execution_count": 7,
   "metadata": {},
   "outputs": [
    {
     "data": {
      "text/html": [
       "<div>\n",
       "<style>\n",
       "    .dataframe thead tr:only-child th {\n",
       "        text-align: right;\n",
       "    }\n",
       "\n",
       "    .dataframe thead th {\n",
       "        text-align: left;\n",
       "    }\n",
       "\n",
       "    .dataframe tbody tr th {\n",
       "        vertical-align: top;\n",
       "    }\n",
       "</style>\n",
       "<table border=\"1\" class=\"dataframe\">\n",
       "  <thead>\n",
       "    <tr style=\"text-align: right;\">\n",
       "      <th></th>\n",
       "      <th>QKRR628BIS</th>\n",
       "    </tr>\n",
       "    <tr>\n",
       "      <th>DATE</th>\n",
       "      <th></th>\n",
       "    </tr>\n",
       "  </thead>\n",
       "  <tbody>\n",
       "    <tr>\n",
       "      <th>2009-01-01</th>\n",
       "      <td>100.80</td>\n",
       "    </tr>\n",
       "    <tr>\n",
       "      <th>2009-04-01</th>\n",
       "      <td>99.85</td>\n",
       "    </tr>\n",
       "    <tr>\n",
       "      <th>2009-07-01</th>\n",
       "      <td>100.17</td>\n",
       "    </tr>\n",
       "    <tr>\n",
       "      <th>2009-10-01</th>\n",
       "      <td>101.20</td>\n",
       "    </tr>\n",
       "    <tr>\n",
       "      <th>2010-01-01</th>\n",
       "      <td>100.50</td>\n",
       "    </tr>\n",
       "  </tbody>\n",
       "</table>\n",
       "</div>"
      ],
      "text/plain": [
       "            QKRR628BIS\n",
       "DATE                  \n",
       "2009-01-01      100.80\n",
       "2009-04-01       99.85\n",
       "2009-07-01      100.17\n",
       "2009-10-01      101.20\n",
       "2010-01-01      100.50"
      ]
     },
     "execution_count": 7,
     "metadata": {},
     "output_type": "execute_result"
    }
   ],
   "source": [
    "kor1 = kor[32:67]\n",
    "kor1.head()"
   ]
  },
  {
   "cell_type": "code",
   "execution_count": 8,
   "metadata": {},
   "outputs": [
    {
     "data": {
      "text/html": [
       "<div>\n",
       "<style>\n",
       "    .dataframe thead tr:only-child th {\n",
       "        text-align: right;\n",
       "    }\n",
       "\n",
       "    .dataframe thead th {\n",
       "        text-align: left;\n",
       "    }\n",
       "\n",
       "    .dataframe tbody tr th {\n",
       "        vertical-align: top;\n",
       "    }\n",
       "</style>\n",
       "<table border=\"1\" class=\"dataframe\">\n",
       "  <thead>\n",
       "    <tr style=\"text-align: right;\">\n",
       "      <th></th>\n",
       "      <th>QJPR628BIS</th>\n",
       "    </tr>\n",
       "    <tr>\n",
       "      <th>DATE</th>\n",
       "      <th></th>\n",
       "    </tr>\n",
       "  </thead>\n",
       "  <tbody>\n",
       "    <tr>\n",
       "      <th>2009-01-01</th>\n",
       "      <td>98.21</td>\n",
       "    </tr>\n",
       "    <tr>\n",
       "      <th>2009-04-01</th>\n",
       "      <td>96.72</td>\n",
       "    </tr>\n",
       "    <tr>\n",
       "      <th>2009-07-01</th>\n",
       "      <td>98.44</td>\n",
       "    </tr>\n",
       "    <tr>\n",
       "      <th>2009-10-01</th>\n",
       "      <td>98.09</td>\n",
       "    </tr>\n",
       "    <tr>\n",
       "      <th>2010-01-01</th>\n",
       "      <td>99.45</td>\n",
       "    </tr>\n",
       "  </tbody>\n",
       "</table>\n",
       "</div>"
      ],
      "text/plain": [
       "            QJPR628BIS\n",
       "DATE                  \n",
       "2009-01-01       98.21\n",
       "2009-04-01       96.72\n",
       "2009-07-01       98.44\n",
       "2009-10-01       98.09\n",
       "2010-01-01       99.45"
      ]
     },
     "execution_count": 8,
     "metadata": {},
     "output_type": "execute_result"
    }
   ],
   "source": [
    "jap1 = jap[3:36]\n",
    "jap1.head()"
   ]
  },
  {
   "cell_type": "code",
   "execution_count": 9,
   "metadata": {},
   "outputs": [
    {
     "name": "stdout",
     "output_type": "stream",
     "text": [
      "            QJPR628BIS       Ret\n",
      "DATE                            \n",
      "2009-01-01       98.21       NaN\n",
      "2009-04-01       96.72 -1.517157\n",
      "2009-07-01       98.44  1.778329\n",
      "2009-10-01       98.09 -0.355547\n",
      "2010-01-01       99.45  1.386482\n",
      "            QJPR628BIS       Ret\n",
      "DATE                            \n",
      "2009-01-01       98.21  0.000000\n",
      "2009-04-01       96.72 -1.517157\n",
      "2009-07-01       98.44  1.778329\n",
      "2009-10-01       98.09 -0.355547\n",
      "2010-01-01       99.45  1.386482\n"
     ]
    },
    {
     "name": "stderr",
     "output_type": "stream",
     "text": [
      "C:\\ProgramData\\Anaconda3\\lib\\site-packages\\ipykernel_launcher.py:1: SettingWithCopyWarning: \n",
      "A value is trying to be set on a copy of a slice from a DataFrame.\n",
      "Try using .loc[row_indexer,col_indexer] = value instead\n",
      "\n",
      "See the caveats in the documentation: http://pandas.pydata.org/pandas-docs/stable/indexing.html#indexing-view-versus-copy\n",
      "  \"\"\"Entry point for launching an IPython kernel.\n",
      "C:\\ProgramData\\Anaconda3\\lib\\site-packages\\pandas\\core\\series.py:767: SettingWithCopyWarning: \n",
      "A value is trying to be set on a copy of a slice from a DataFrame\n",
      "\n",
      "See the caveats in the documentation: http://pandas.pydata.org/pandas-docs/stable/indexing.html#indexing-view-versus-copy\n",
      "  self._set_with(key, value)\n",
      "C:\\ProgramData\\Anaconda3\\lib\\site-packages\\IPython\\core\\interactiveshell.py:2881: SettingWithCopyWarning: \n",
      "A value is trying to be set on a copy of a slice from a DataFrame\n",
      "\n",
      "See the caveats in the documentation: http://pandas.pydata.org/pandas-docs/stable/indexing.html#indexing-view-versus-copy\n",
      "  exec(code_obj, self.user_global_ns, self.user_ns)\n"
     ]
    }
   ],
   "source": [
    "jap1['Ret']=(jap1['QJPR628BIS'].diff()/jap1['QJPR628BIS'].shift(1))*100\n",
    "print(jap1.head())\n",
    "jap1['Ret'][0:1]=0\n",
    "print(jap1.head())"
   ]
  },
  {
   "cell_type": "code",
   "execution_count": 10,
   "metadata": {},
   "outputs": [
    {
     "name": "stderr",
     "output_type": "stream",
     "text": [
      "C:\\ProgramData\\Anaconda3\\lib\\site-packages\\ipykernel_launcher.py:1: SettingWithCopyWarning: \n",
      "A value is trying to be set on a copy of a slice from a DataFrame.\n",
      "Try using .loc[row_indexer,col_indexer] = value instead\n",
      "\n",
      "See the caveats in the documentation: http://pandas.pydata.org/pandas-docs/stable/indexing.html#indexing-view-versus-copy\n",
      "  \"\"\"Entry point for launching an IPython kernel.\n"
     ]
    },
    {
     "name": "stdout",
     "output_type": "stream",
     "text": [
      "            QKRR628BIS       Ret\n",
      "DATE                            \n",
      "2009-01-01      100.80       NaN\n",
      "2009-04-01       99.85 -0.942460\n",
      "2009-07-01      100.17  0.320481\n",
      "2009-10-01      101.20  1.028252\n",
      "2010-01-01      100.50 -0.691700\n",
      "            QKRR628BIS       Ret\n",
      "DATE                            \n",
      "2009-01-01      100.80  0.000000\n",
      "2009-04-01       99.85 -0.942460\n",
      "2009-07-01      100.17  0.320481\n",
      "2009-10-01      101.20  1.028252\n",
      "2010-01-01      100.50 -0.691700\n"
     ]
    },
    {
     "name": "stderr",
     "output_type": "stream",
     "text": [
      "C:\\ProgramData\\Anaconda3\\lib\\site-packages\\pandas\\core\\series.py:767: SettingWithCopyWarning: \n",
      "A value is trying to be set on a copy of a slice from a DataFrame\n",
      "\n",
      "See the caveats in the documentation: http://pandas.pydata.org/pandas-docs/stable/indexing.html#indexing-view-versus-copy\n",
      "  self._set_with(key, value)\n",
      "C:\\ProgramData\\Anaconda3\\lib\\site-packages\\IPython\\core\\interactiveshell.py:2881: SettingWithCopyWarning: \n",
      "A value is trying to be set on a copy of a slice from a DataFrame\n",
      "\n",
      "See the caveats in the documentation: http://pandas.pydata.org/pandas-docs/stable/indexing.html#indexing-view-versus-copy\n",
      "  exec(code_obj, self.user_global_ns, self.user_ns)\n"
     ]
    }
   ],
   "source": [
    "kor1['Ret']=(kor1['QKRR628BIS'].diff()/kor1['QKRR628BIS'].shift(1))*100\n",
    "print (kor1.head())\n",
    "kor1['Ret'][0:1]=0\n",
    "print(kor1.head())"
   ]
  },
  {
   "cell_type": "code",
   "execution_count": 11,
   "metadata": {},
   "outputs": [
    {
     "data": {
      "image/png": "[encoded data removed]",
      "text/plain": [
       "<matplotlib.figure.Figure at 0x9b737b8>"
      ]
     },
     "metadata": {},
     "output_type": "display_data"
    }
   ],
   "source": [
    "fig = plt.figure(figsize=(7,3)); ax = fig.add_subplot(1, 1, 1)\n",
    "ax.plot(kor1['Ret'], 'k', label='KOR')\n",
    "ax.plot(jap1['Ret'], 'b', label='JAP')\n",
    "#ax.set_xlim(['03/03/2008', '01/02/2017'])\n",
    "ax.legend(loc='best')\n",
    "plt.show()"
   ]
  },
  {
   "cell_type": "code",
   "execution_count": 12,
   "metadata": {},
   "outputs": [
    {
     "data": {
      "text/plain": [
       "-0.38084386436331985"
      ]
     },
     "execution_count": 12,
     "metadata": {},
     "output_type": "execute_result"
    }
   ],
   "source": [
    "kor1['Ret'].corr(jap1['Ret'])"
   ]
  },
  {
   "cell_type": "code",
   "execution_count": 64,
   "metadata": {},
   "outputs": [
    {
     "data": {
      "text/html": [
       "<div>\n",
       "<style>\n",
       "    .dataframe thead tr:only-child th {\n",
       "        text-align: right;\n",
       "    }\n",
       "\n",
       "    .dataframe thead th {\n",
       "        text-align: left;\n",
       "    }\n",
       "\n",
       "    .dataframe tbody tr th {\n",
       "        vertical-align: top;\n",
       "    }\n",
       "</style>\n",
       "<table border=\"1\" class=\"dataframe\">\n",
       "  <thead>\n",
       "    <tr style=\"text-align: right;\">\n",
       "      <th></th>\n",
       "      <th>SPCS10RNSA</th>\n",
       "    </tr>\n",
       "    <tr>\n",
       "      <th>DATE</th>\n",
       "      <th></th>\n",
       "    </tr>\n",
       "  </thead>\n",
       "  <tbody>\n",
       "    <tr>\n",
       "      <th>2001-01-01</th>\n",
       "      <td>114.58</td>\n",
       "    </tr>\n",
       "    <tr>\n",
       "      <th>2001-02-01</th>\n",
       "      <td>115.45</td>\n",
       "    </tr>\n",
       "    <tr>\n",
       "      <th>2001-03-01</th>\n",
       "      <td>116.69</td>\n",
       "    </tr>\n",
       "    <tr>\n",
       "      <th>2001-04-01</th>\n",
       "      <td>117.94</td>\n",
       "    </tr>\n",
       "    <tr>\n",
       "      <th>2001-05-01</th>\n",
       "      <td>118.94</td>\n",
       "    </tr>\n",
       "  </tbody>\n",
       "</table>\n",
       "</div>"
      ],
      "text/plain": [
       "            SPCS10RNSA\n",
       "DATE                  \n",
       "2001-01-01      114.58\n",
       "2001-02-01      115.45\n",
       "2001-03-01      116.69\n",
       "2001-04-01      117.94\n",
       "2001-05-01      118.94"
      ]
     },
     "execution_count": 64,
     "metadata": {},
     "output_type": "execute_result"
    }
   ],
   "source": [
    "us10.head()"
   ]
  },
  {
   "cell_type": "code",
   "execution_count": 25,
   "metadata": {},
   "outputs": [
    {
     "name": "stdout",
     "output_type": "stream",
     "text": [
      "            QKRR628BIS        Ret\n",
      "DATE                             \n",
      "2001-01-01       79.62   0.000000\n",
      "2002-01-01       89.44  12.333585\n",
      "2003-01-01       95.63   6.920841\n",
      "2004-01-01       97.25   1.694029\n",
      "2005-01-01       92.49  -4.894602\n",
      "            SPCS10RNSA        Ret\n",
      "DATE                             \n",
      "2001-01-01      114.58   0.000000\n",
      "2002-01-01      123.93   8.160237\n",
      "2003-01-01      142.86  15.274752\n",
      "2004-01-01      162.90  14.027719\n",
      "2005-01-01      193.35  18.692449\n",
      "            NYXRNSA        Ret\n",
      "DATE                          \n",
      "2001-01-01   112.66   0.000000\n",
      "2002-01-01   125.19  11.121960\n",
      "2003-01-01   146.55  17.062066\n",
      "2004-01-01   163.63  11.654725\n",
      "2005-01-01   187.19  14.398338\n",
      "            QJPR628BIS       Ret\n",
      "DATE                            \n",
      "2009-01-01       98.21  0.000000\n",
      "2010-01-01       99.45  1.262601\n",
      "2011-01-01      100.81  1.367521\n",
      "2012-01-01       99.99 -0.813411\n",
      "2013-01-01      100.18  0.190019\n",
      "            QXMR628BIS       Ret\n",
      "DATE                            \n",
      "2001-01-01       83.04  0.000000\n",
      "2002-01-01       85.89  3.432081\n",
      "2003-01-01       89.10  3.737338\n",
      "2004-01-01       93.07  4.455668\n",
      "2005-01-01       98.02  5.318577\n",
      "            Q4TR628BIS       Ret\n",
      "DATE                            \n",
      "2008-01-01       95.61  0.000000\n",
      "2009-01-01       94.51 -1.150507\n",
      "2010-01-01       98.44  4.158290\n",
      "2011-01-01       98.58  0.142219\n",
      "2012-01-01      101.32  2.779468\n"
     ]
    }
   ],
   "source": [
    "kor_y['Ret']=(kor_y['QKRR628BIS'].diff()/kor_y['QKRR628BIS'].shift(1))*100\n",
    "kor_y['Ret'][0:1]=0\n",
    "print(kor_y.head())\n",
    "us10_y['Ret']=(us10_y['SPCS10RNSA'].diff()/us10_y['SPCS10RNSA'].shift(1))*100\n",
    "us10_y['Ret'][0:1]=0\n",
    "print(us10_y.head())\n",
    "usn_y['Ret']=(usn_y['NYXRNSA'].diff()/usn_y['NYXRNSA'].shift(1))*100\n",
    "usn_y['Ret'][0:1]=0\n",
    "print(usn_y.head())\n",
    "jap_y['Ret']=(jap_y['QJPR628BIS'].diff()/jap_y['QJPR628BIS'].shift(1))*100\n",
    "jap_y['Ret'][0:1]=0\n",
    "print(jap_y.head())\n",
    "eur_y['Ret']=(eur_y['QXMR628BIS'].diff()/eur_y['QXMR628BIS'].shift(1))*100\n",
    "eur_y['Ret'][0:1]=0\n",
    "print(eur_y.head())\n",
    "emg_y['Ret']=(emg_y['Q4TR628BIS'].diff()/emg_y['Q4TR628BIS'].shift(1))*100\n",
    "emg_y['Ret'][0:1]=0\n",
    "print(emg_y.head())"
   ]
  },
  {
   "cell_type": "code",
   "execution_count": 29,
   "metadata": {},
   "outputs": [
    {
     "data": {
      "image/png": "[encoded data removed]",
      "text/plain": [
       "<matplotlib.figure.Figure at 0xb816cc0>"
      ]
     },
     "metadata": {},
     "output_type": "display_data"
    }
   ],
   "source": [
    "fig = plt.figure(figsize=(7,7)); ax = fig.add_subplot(1, 1, 1)\n",
    "ax.plot(usn_y['Ret'].cumsum(), 'k', label='USNY')\n",
    "ax.plot(us10_y['Ret'].cumsum(), 'k^', label='US10')\n",
    "ax.plot(kor_y['Ret'].cumsum(), 'b', label='KOR')\n",
    "ax.plot(jap_y['Ret'].cumsum(), 'r', label='JAP')\n",
    "ax.plot(eur_y['Ret'].cumsum(), 'g', label='EURO')\n",
    "ax.plot(emg_y['Ret'].cumsum(), 'go', label='Emerging')\n",
    "#ax.set_xlim(['01/01/2001', '01/01/2008'])\n",
    "ax.legend(loc='best')\n",
    "plt.show()"
   ]
  },
  {
   "cell_type": "code",
   "execution_count": 17,
   "metadata": {},
   "outputs": [
    {
     "data": {
      "text/plain": [
       "0.31107139466379669"
      ]
     },
     "execution_count": 17,
     "metadata": {},
     "output_type": "execute_result"
    }
   ],
   "source": [
    "kor_y['Ret'].corr(usn_y['Ret'])"
   ]
  },
  {
   "cell_type": "code",
   "execution_count": 18,
   "metadata": {},
   "outputs": [
    {
     "data": {
      "text/plain": [
       "17"
      ]
     },
     "execution_count": 18,
     "metadata": {},
     "output_type": "execute_result"
    }
   ],
   "source": [
    "len(kor_y)"
   ]
  },
  {
   "cell_type": "code",
   "execution_count": 30,
   "metadata": {},
   "outputs": [
    {
     "data": {
      "image/png": "[encoded data removed]",
      "text/plain": [
       "<matplotlib.figure.Figure at 0x9e96a90>"
      ]
     },
     "metadata": {},
     "output_type": "display_data"
    }
   ],
   "source": [
    "fig = plt.figure(figsize=(7,7)); ax = fig.add_subplot(1, 1, 1)\n",
    "ax.plot(usn_y['Ret'], 'k', label='USNY')\n",
    "ax.plot(us10_y['Ret'], 'k^', label='US10')\n",
    "ax.plot(kor_y['Ret'], 'b', label='KOR')\n",
    "ax.plot(jap_y['Ret'], 'r', label='JAP')\n",
    "ax.plot(eur_y['Ret'], 'g', label='EURO')\n",
    "ax.plot(emg_y['Ret'], 'go', label='Emerging')\n",
    "#ax.set_xlim(['01/01/2001', '01/01/2008'])\n",
    "ax.legend(loc='best')\n",
    "plt.show()"
   ]
  },
  {
   "cell_type": "code",
   "execution_count": null,
   "metadata": {
    "collapsed": true
   },
   "outputs": [],
   "source": []
  }
 ],
 "metadata": {
  "kernelspec": {
   "display_name": "Python 3",
   "language": "python",
   "name": "python3"
  },
  "language_info": {
   "codemirror_mode": {
    "name": "ipython",
    "version": 3
   },
   "file_extension": ".py",
   "mimetype": "text/x-python",
   "name": "python",
   "nbconvert_exporter": "python",
   "pygments_lexer": "ipython3",
   "version": "3.6.3"
  }
 },
 "nbformat": 4,
 "nbformat_minor": 2
}
