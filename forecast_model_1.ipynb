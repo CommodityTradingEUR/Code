{
 "cells": [
  {
   "cell_type": "markdown",
   "metadata": {},
   "source": []
  },
  {
   "cell_type": "code",
   "execution_count": 6,
   "metadata": {
    "collapsed": true
   },
   "outputs": [],
   "source": [
    "import pandas as pd\n",
    "import numpy as np\n",
    "import statsmodels.api as sm\n",
    "from statsmodels.tsa.api import VAR, DynamicVAR\n",
    "from statsmodels.tsa.base.datetools import dates_from_str\n",
    "import matplotlib.pyplot as plt"
   ]
  },
  {
   "cell_type": "code",
   "execution_count": 37,
   "metadata": {},
   "outputs": [
    {
     "data": {
      "text/html": [
       "<div>\n",
       "<style>\n",
       "    .dataframe thead tr:only-child th {\n",
       "        text-align: right;\n",
       "    }\n",
       "\n",
       "    .dataframe thead th {\n",
       "        text-align: left;\n",
       "    }\n",
       "\n",
       "    .dataframe tbody tr th {\n",
       "        vertical-align: top;\n",
       "    }\n",
       "</style>\n",
       "<table border=\"1\" class=\"dataframe\">\n",
       "  <thead>\n",
       "    <tr style=\"text-align: right;\">\n",
       "      <th></th>\n",
       "      <th>Robusta</th>\n",
       "      <th>BRL</th>\n",
       "      <th>IDR</th>\n",
       "      <th>WTI</th>\n",
       "    </tr>\n",
       "    <tr>\n",
       "      <th>Date</th>\n",
       "      <th></th>\n",
       "      <th></th>\n",
       "      <th></th>\n",
       "      <th></th>\n",
       "    </tr>\n",
       "  </thead>\n",
       "  <tbody>\n",
       "    <tr>\n",
       "      <th>2018-01-11</th>\n",
       "      <td>160.828142</td>\n",
       "      <td>175.035384</td>\n",
       "      <td>187.896213</td>\n",
       "      <td>256.122039</td>\n",
       "    </tr>\n",
       "    <tr>\n",
       "      <th>2018-01-12</th>\n",
       "      <td>161.670942</td>\n",
       "      <td>174.540011</td>\n",
       "      <td>187.237027</td>\n",
       "      <td>258.129265</td>\n",
       "    </tr>\n",
       "    <tr>\n",
       "      <th>2018-01-16</th>\n",
       "      <td>160.956394</td>\n",
       "      <td>175.514426</td>\n",
       "      <td>187.054698</td>\n",
       "      <td>255.841028</td>\n",
       "    </tr>\n",
       "    <tr>\n",
       "      <th>2018-01-17</th>\n",
       "      <td>164.510810</td>\n",
       "      <td>175.487207</td>\n",
       "      <td>187.307153</td>\n",
       "      <td>256.804496</td>\n",
       "    </tr>\n",
       "    <tr>\n",
       "      <th>2018-01-18</th>\n",
       "      <td>164.510810</td>\n",
       "      <td>174.654328</td>\n",
       "      <td>187.166900</td>\n",
       "      <td>256.884785</td>\n",
       "    </tr>\n",
       "  </tbody>\n",
       "</table>\n",
       "</div>"
      ],
      "text/plain": [
       "               Robusta         BRL         IDR         WTI\n",
       "Date                                                      \n",
       "2018-01-11  160.828142  175.035384  187.896213  256.122039\n",
       "2018-01-12  161.670942  174.540011  187.237027  258.129265\n",
       "2018-01-16  160.956394  175.514426  187.054698  255.841028\n",
       "2018-01-17  164.510810  175.487207  187.307153  256.804496\n",
       "2018-01-18  164.510810  174.654328  187.166900  256.884785"
      ]
     },
     "execution_count": 37,
     "metadata": {},
     "output_type": "execute_result"
    }
   ],
   "source": [
    "forex = pd.read_excel('forex.xlsx', index_col=0)\n",
    "forex.tail()"
   ]
  },
  {
   "cell_type": "code",
   "execution_count": 15,
   "metadata": {
    "collapsed": true
   },
   "outputs": [],
   "source": [
    "model = VAR(forex)"
   ]
  },
  {
   "cell_type": "code",
   "execution_count": 16,
   "metadata": {
    "collapsed": true
   },
   "outputs": [],
   "source": [
    "results = model.fit(2)"
   ]
  },
  {
   "cell_type": "code",
   "execution_count": 17,
   "metadata": {},
   "outputs": [
    {
     "data": {
      "text/plain": [
       "  Summary of Regression Results   \n",
       "==================================\n",
       "Model:                         VAR\n",
       "Method:                        OLS\n",
       "Date:           Tue, 30, Jan, 2018\n",
       "Time:                     14:16:30\n",
       "--------------------------------------------------------------------\n",
       "No. of Equations:         4.00000    BIC:                    5.87791\n",
       "Nobs:                     4653.00    HQIC:                   5.84559\n",
       "Log likelihood:          -39932.2    FPE:                    339.694\n",
       "AIC:                      5.82804    Det(Omega_mle):         337.078\n",
       "--------------------------------------------------------------------\n",
       "Results for equation Robusta\n",
       "=============================================================================\n",
       "                coefficient       std. error           t-stat            prob\n",
       "-----------------------------------------------------------------------------\n",
       "const             -0.466862         0.286247           -1.631           0.103\n",
       "L1.Robusta         0.924839         0.014617           63.272           0.000\n",
       "L1.BRL            -0.114672         0.022967           -4.993           0.000\n",
       "L1.IDR            -0.085556         0.041620           -2.056           0.040\n",
       "L1.WTI             0.018533         0.006273            2.955           0.003\n",
       "L2.Robusta         0.070286         0.014607            4.812           0.000\n",
       "L2.BRL             0.115362         0.022964            5.024           0.000\n",
       "L2.IDR             0.089185         0.041610            2.143           0.032\n",
       "L2.WTI            -0.016387         0.006273           -2.613           0.009\n",
       "=============================================================================\n",
       "\n",
       "Results for equation BRL\n",
       "=============================================================================\n",
       "                coefficient       std. error           t-stat            prob\n",
       "-----------------------------------------------------------------------------\n",
       "const              0.084744         0.186776            0.454           0.650\n",
       "L1.Robusta        -0.002305         0.009538           -0.242           0.809\n",
       "L1.BRL             0.961253         0.014986           64.144           0.000\n",
       "L1.IDR            -0.025443         0.027157           -0.937           0.349\n",
       "L1.WTI             0.001082         0.004093            0.264           0.792\n",
       "L2.Robusta         0.001981         0.009531            0.208           0.835\n",
       "L2.BRL             0.035894         0.014984            2.395           0.017\n",
       "L2.IDR             0.028332         0.027150            1.044           0.297\n",
       "L2.WTI            -0.001329         0.004093           -0.325           0.745\n",
       "=============================================================================\n",
       "\n",
       "Results for equation IDR\n",
       "=============================================================================\n",
       "                coefficient       std. error           t-stat            prob\n",
       "-----------------------------------------------------------------------------\n",
       "const              0.118014         0.100082            1.179           0.238\n",
       "L1.Robusta        -0.000509         0.005111           -0.100           0.921\n",
       "L1.BRL             0.075588         0.008030            9.413           0.000\n",
       "L1.IDR             1.061479         0.014552           72.944           0.000\n",
       "L1.WTI            -0.005363         0.002193           -2.445           0.015\n",
       "L2.Robusta         0.001207         0.005107            0.236           0.813\n",
       "L2.BRL            -0.074941         0.008029           -9.334           0.000\n",
       "L2.IDR            -0.063304         0.014548           -4.351           0.000\n",
       "L2.WTI             0.005284         0.002193            2.409           0.016\n",
       "=============================================================================\n",
       "\n",
       "Results for equation WTI\n",
       "=============================================================================\n",
       "                coefficient       std. error           t-stat            prob\n",
       "-----------------------------------------------------------------------------\n",
       "const              1.925780         0.682959            2.820           0.005\n",
       "L1.Robusta         0.093225         0.034875            2.673           0.008\n",
       "L1.BRL            -0.082844         0.054797           -1.512           0.131\n",
       "L1.IDR            -0.046281         0.099303           -0.466           0.641\n",
       "L1.WTI             0.942720         0.014966           62.992           0.000\n",
       "L2.Robusta        -0.085970         0.034852           -2.467           0.014\n",
       "L2.BRL             0.079763         0.054790            1.456           0.146\n",
       "L2.IDR             0.037687         0.099277            0.380           0.704\n",
       "L2.WTI             0.052331         0.014966            3.497           0.000\n",
       "=============================================================================\n",
       "\n",
       "Correlation matrix of residuals\n",
       "            Robusta       BRL       IDR       WTI\n",
       "Robusta    1.000000 -0.051474 -0.039037  0.057525\n",
       "BRL       -0.051474  1.000000  0.088578 -0.193772\n",
       "IDR       -0.039037  0.088578  1.000000 -0.074245\n",
       "WTI        0.057525 -0.193772 -0.074245  1.000000\n",
       "\n"
      ]
     },
     "execution_count": 17,
     "metadata": {},
     "output_type": "execute_result"
    }
   ],
   "source": [
    "results.summary()"
   ]
  },
  {
   "cell_type": "code",
   "execution_count": 23,
   "metadata": {},
   "outputs": [
    {
     "data": {
      "image/png": "[encoded data removed]",
      "text/plain": [
       "<matplotlib.figure.Figure at 0xcefeb00>"
      ]
     },
     "metadata": {},
     "output_type": "display_data"
    }
   ],
   "source": [
    "results.plot_acorr()\n",
    "plt.show()"
   ]
  },
  {
   "cell_type": "code",
   "execution_count": 24,
   "metadata": {},
   "outputs": [
    {
     "name": "stdout",
     "output_type": "stream",
     "text": [
      "                 VAR Order Selection                  \n",
      "======================================================\n",
      "            aic          bic          fpe         hqic\n",
      "------------------------------------------------------\n",
      "0         28.23        28.23    1.811e+12        28.23\n",
      "1         5.875        5.903        356.1        5.885\n",
      "2         5.832       5.882*        341.2       5.850*\n",
      "3         5.826        5.898        339.1        5.852\n",
      "4        5.823*        5.918       338.1*        5.856\n",
      "5         5.824        5.941        338.4        5.865\n",
      "6         5.825        5.964        338.8        5.874\n",
      "7         5.827        5.988        339.3        5.884\n",
      "8         5.830        6.013        340.3        5.894\n",
      "9         5.831        6.037        340.7        5.903\n",
      "10        5.832        6.060        341.0        5.912\n",
      "11        5.834        6.084        341.8        5.922\n",
      "12        5.837        6.109        342.8        5.933\n",
      "13        5.836        6.130        342.4        5.940\n",
      "14        5.841        6.158        344.1        5.952\n",
      "15        5.843        6.182        344.9        5.963\n",
      "======================================================\n",
      "* Minimum\n",
      "\n"
     ]
    },
    {
     "data": {
      "text/plain": [
       "{'aic': 4, 'bic': 2, 'fpe': 4, 'hqic': 2}"
      ]
     },
     "execution_count": 24,
     "metadata": {},
     "output_type": "execute_result"
    }
   ],
   "source": [
    "model.select_order(15)"
   ]
  },
  {
   "cell_type": "code",
   "execution_count": 25,
   "metadata": {
    "collapsed": true
   },
   "outputs": [],
   "source": [
    "results = model.fit(maxlags=15, ic='aic')"
   ]
  },
  {
   "cell_type": "code",
   "execution_count": 101,
   "metadata": {},
   "outputs": [
    {
     "data": {
      "text/plain": [
       "4"
      ]
     },
     "execution_count": 101,
     "metadata": {},
     "output_type": "execute_result"
    }
   ],
   "source": [
    "results.k_ar"
   ]
  },
  {
   "cell_type": "code",
   "execution_count": 26,
   "metadata": {
    "collapsed": true
   },
   "outputs": [],
   "source": [
    "lag_order = results.k_ar"
   ]
  },
  {
   "cell_type": "code",
   "execution_count": 28,
   "metadata": {},
   "outputs": [
    {
     "data": {
      "text/plain": [
       "array([[ 164.59792348,  174.65401289,  187.11841678,  256.35708815],\n",
       "       [ 164.58262115,  174.6784978 ,  187.09577923,  256.06614298],\n",
       "       [ 164.66875566,  174.67083826,  187.03806022,  255.771723  ],\n",
       "       [ 164.74287697,  174.67448623,  187.01245578,  255.51004459],\n",
       "       [ 164.81284268,  174.67834523,  186.99467443,  255.24686659]])"
      ]
     },
     "execution_count": 28,
     "metadata": {},
     "output_type": "execute_result"
    }
   ],
   "source": [
    "results.forecast(forex.values[-lag_order:], 5)"
   ]
  },
  {
   "cell_type": "code",
   "execution_count": 43,
   "metadata": {},
   "outputs": [
    {
     "data": {
      "text/plain": [
       "array([[ 164.59792348,  174.65401289,  187.11841678,  256.35708815],\n",
       "       [ 164.58262115,  174.6784978 ,  187.09577923,  256.06614298],\n",
       "       [ 164.66875566,  174.67083826,  187.03806022,  255.771723  ],\n",
       "       [ 164.74287697,  174.67448623,  187.01245578,  255.51004459],\n",
       "       [ 164.81284268,  174.67834523,  186.99467443,  255.24686659],\n",
       "       [ 164.87986664,  174.68129297,  186.97350618,  254.97745666],\n",
       "       [ 164.94588974,  174.685217  ,  186.95345376,  254.71089002],\n",
       "       [ 165.01089576,  174.6891305 ,  186.9340018 ,  254.44703462],\n",
       "       [ 165.075226  ,  174.69305786,  186.91451289,  254.18463156],\n",
       "       [ 165.13871673,  174.69707739,  186.89519927,  253.92402877]])"
      ]
     },
     "execution_count": 43,
     "metadata": {},
     "output_type": "execute_result"
    }
   ],
   "source": [
    "forecasted = results.forecast(forex.values[-lag_order:], 10)\n",
    "forecasted"
   ]
  },
  {
   "cell_type": "code",
   "execution_count": 55,
   "metadata": {},
   "outputs": [
    {
     "data": {
      "text/plain": [
       "164.58262115307974"
      ]
     },
     "execution_count": 55,
     "metadata": {},
     "output_type": "execute_result"
    }
   ],
   "source": [
    "forerobus = forecasted[0]\n",
    "forerobus[0]"
   ]
  },
  {
   "cell_type": "code",
   "execution_count": 76,
   "metadata": {},
   "outputs": [
    {
     "name": "stdout",
     "output_type": "stream",
     "text": [
      "[164.5979234809154, 164.58262115307974, 164.66875566473706, 164.74287697101846, 164.81284268327434, 164.87986663768888, 164.94588974329679, 165.01089576394247, 165.07522600026135, 165.13871673042038]\n"
     ]
    }
   ],
   "source": [
    "f_robus = []\n",
    "for i in np.arange(len(forecasted)):\n",
    "    forerobus = forecasted[i]\n",
    "#    print(forerobus)\n",
    "    f_robus.append(forerobus[0])\n",
    "#    print(f_robus)\n",
    "#    for j in np.arange(len(forerobus)):\n",
    "#        print(forerobus[j])\n",
    "print(f_robus)"
   ]
  },
  {
   "cell_type": "code",
   "execution_count": 81,
   "metadata": {
    "collapsed": true
   },
   "outputs": [],
   "source": [
    "f_robus = pd.DataFrame(f_robus)"
   ]
  },
  {
   "cell_type": "code",
   "execution_count": 82,
   "metadata": {
    "collapsed": true
   },
   "outputs": [],
   "source": [
    "writer = pd.ExcelWriter('proto_1.xlsx')\n",
    "f_robus.to_excel(writer,'Sheet1')\n",
    "writer.save()"
   ]
  },
  {
   "cell_type": "code",
   "execution_count": 95,
   "metadata": {
    "collapsed": true
   },
   "outputs": [],
   "source": [
    "to_plot=pd.read_excel('forecasted.xlsx', index_col=0)"
   ]
  },
  {
   "cell_type": "code",
   "execution_count": 100,
   "metadata": {},
   "outputs": [
    {
     "data": {
      "image/png": "[encoded data removed]",
      "text/plain": [
       "<matplotlib.figure.Figure at 0xc1224e0>"
      ]
     },
     "metadata": {},
     "output_type": "display_data"
    }
   ],
   "source": [
    "fig = plt.figure(figsize=(10,5))\n",
    "ax = fig.add_subplot(1,1,1)\n",
    "ax.plot(to_plot['Forecasted'], 'k', label='Robusta')\n",
    "plt.axvspan('2018-01-17','2018-01-30', facecolor='#2ca02c', alpha=0.5)\n",
    "ax.set_xlim(['06/01/2017', '02/02/2018'])\n",
    "ax.legend(loc='best')\n",
    "plt.show()"
   ]
  },
  {
   "cell_type": "code",
   "execution_count": 7,
   "metadata": {},
   "outputs": [
    {
     "data": {
      "text/html": [
       "<div>\n",
       "<style>\n",
       "    .dataframe thead tr:only-child th {\n",
       "        text-align: right;\n",
       "    }\n",
       "\n",
       "    .dataframe thead th {\n",
       "        text-align: left;\n",
       "    }\n",
       "\n",
       "    .dataframe tbody tr th {\n",
       "        vertical-align: top;\n",
       "    }\n",
       "</style>\n",
       "<table border=\"1\" class=\"dataframe\">\n",
       "  <thead>\n",
       "    <tr style=\"text-align: right;\">\n",
       "      <th></th>\n",
       "      <th>Robusta</th>\n",
       "      <th>BRL</th>\n",
       "      <th>IDR</th>\n",
       "      <th>WTI</th>\n",
       "      <th>Events</th>\n",
       "    </tr>\n",
       "    <tr>\n",
       "      <th>Date</th>\n",
       "      <th></th>\n",
       "      <th></th>\n",
       "      <th></th>\n",
       "      <th></th>\n",
       "      <th></th>\n",
       "    </tr>\n",
       "  </thead>\n",
       "  <tbody>\n",
       "    <tr>\n",
       "      <th>2018-01-11</th>\n",
       "      <td>160.828142</td>\n",
       "      <td>175.035384</td>\n",
       "      <td>187.896213</td>\n",
       "      <td>256.122039</td>\n",
       "      <td>1</td>\n",
       "    </tr>\n",
       "    <tr>\n",
       "      <th>2018-01-12</th>\n",
       "      <td>161.670942</td>\n",
       "      <td>174.540011</td>\n",
       "      <td>187.237027</td>\n",
       "      <td>258.129265</td>\n",
       "      <td>1</td>\n",
       "    </tr>\n",
       "    <tr>\n",
       "      <th>2018-01-16</th>\n",
       "      <td>160.956394</td>\n",
       "      <td>175.514426</td>\n",
       "      <td>187.054698</td>\n",
       "      <td>255.841028</td>\n",
       "      <td>1</td>\n",
       "    </tr>\n",
       "    <tr>\n",
       "      <th>2018-01-17</th>\n",
       "      <td>164.510810</td>\n",
       "      <td>175.487207</td>\n",
       "      <td>187.307153</td>\n",
       "      <td>256.804496</td>\n",
       "      <td>1</td>\n",
       "    </tr>\n",
       "    <tr>\n",
       "      <th>2018-01-18</th>\n",
       "      <td>164.510810</td>\n",
       "      <td>174.654328</td>\n",
       "      <td>187.166900</td>\n",
       "      <td>256.884785</td>\n",
       "      <td>1</td>\n",
       "    </tr>\n",
       "  </tbody>\n",
       "</table>\n",
       "</div>"
      ],
      "text/plain": [
       "               Robusta         BRL         IDR         WTI  Events\n",
       "Date                                                              \n",
       "2018-01-11  160.828142  175.035384  187.896213  256.122039       1\n",
       "2018-01-12  161.670942  174.540011  187.237027  258.129265       1\n",
       "2018-01-16  160.956394  175.514426  187.054698  255.841028       1\n",
       "2018-01-17  164.510810  175.487207  187.307153  256.804496       1\n",
       "2018-01-18  164.510810  174.654328  187.166900  256.884785       1"
      ]
     },
     "execution_count": 7,
     "metadata": {},
     "output_type": "execute_result"
    }
   ],
   "source": [
    "forex = pd.read_excel('forex.xlsx', index_col=0)\n",
    "forex.tail()"
   ]
  },
  {
   "cell_type": "code",
   "execution_count": 8,
   "metadata": {},
   "outputs": [
    {
     "data": {
      "text/plain": [
       "  Summary of Regression Results   \n",
       "==================================\n",
       "Model:                         VAR\n",
       "Method:                        OLS\n",
       "Date:           Tue, 30, Jan, 2018\n",
       "Time:                     18:05:38\n",
       "--------------------------------------------------------------------\n",
       "No. of Equations:         5.00000    BIC:                  -0.107555\n",
       "Nobs:                     4509.00    HQIC:                 -0.158226\n",
       "Log likelihood:          -31516.1    FPE:                   0.830448\n",
       "AIC:                    -0.185790    Det(Omega_mle):        0.820392\n",
       "--------------------------------------------------------------------\n",
       "Results for equation Robusta\n",
       "=============================================================================\n",
       "                coefficient       std. error           t-stat            prob\n",
       "-----------------------------------------------------------------------------\n",
       "const             -0.414831         0.292322           -1.419           0.156\n",
       "L1.Robusta         0.917398         0.014875           61.673           0.000\n",
       "L1.BRL            -0.116851         0.023076           -5.064           0.000\n",
       "L1.IDR            -0.083276         0.041521           -2.006           0.045\n",
       "L1.WTI             0.022230         0.006419            3.463           0.001\n",
       "L1.Events          0.746395         0.729563            1.023           0.306\n",
       "L2.Robusta         0.077860         0.014865            5.238           0.000\n",
       "L2.BRL             0.117396         0.023075            5.088           0.000\n",
       "L2.IDR             0.086695         0.041513            2.088           0.037\n",
       "L2.WTI            -0.020204         0.006419           -3.148           0.002\n",
       "L2.Events         -0.724015         0.729709           -0.992           0.321\n",
       "=============================================================================\n",
       "\n",
       "Results for equation BRL\n",
       "=============================================================================\n",
       "                coefficient       std. error           t-stat            prob\n",
       "-----------------------------------------------------------------------------\n",
       "const              0.078237         0.192559            0.406           0.685\n",
       "L1.Robusta        -0.001746         0.009799           -0.178           0.859\n",
       "L1.BRL             0.966978         0.015201           63.614           0.000\n",
       "L1.IDR            -0.027049         0.027351           -0.989           0.323\n",
       "L1.WTI             0.000779         0.004228            0.184           0.854\n",
       "L1.Events          1.151723         0.480578            2.397           0.017\n",
       "L2.Robusta         0.001573         0.009792            0.161           0.872\n",
       "L2.BRL             0.030230         0.015200            1.989           0.047\n",
       "L2.IDR             0.029859         0.027346            1.092           0.275\n",
       "L2.WTI            -0.001031         0.004228           -0.244           0.807\n",
       "L2.Events         -1.184813         0.480674           -2.465           0.014\n",
       "=============================================================================\n",
       "\n",
       "Results for equation IDR\n",
       "=============================================================================\n",
       "                coefficient       std. error           t-stat            prob\n",
       "-----------------------------------------------------------------------------\n",
       "const              0.129257         0.104123            1.241           0.215\n",
       "L1.Robusta         0.000744         0.005298            0.140           0.888\n",
       "L1.BRL             0.075753         0.008219            9.216           0.000\n",
       "L1.IDR             1.060576         0.014789           71.712           0.000\n",
       "L1.WTI            -0.006069         0.002286           -2.655           0.008\n",
       "L1.Events          0.215836         0.259865            0.831           0.406\n",
       "L2.Robusta        -0.000109         0.005295           -0.021           0.984\n",
       "L2.BRL            -0.075179         0.008219           -9.147           0.000\n",
       "L2.IDR            -0.062351         0.014787           -4.217           0.000\n",
       "L2.WTI             0.005952         0.002286            2.603           0.009\n",
       "L2.Events         -0.182778         0.259916           -0.703           0.482\n",
       "=============================================================================\n",
       "\n",
       "Results for equation WTI\n",
       "=============================================================================\n",
       "                coefficient       std. error           t-stat            prob\n",
       "-----------------------------------------------------------------------------\n",
       "const              1.917298         0.692668            2.768           0.006\n",
       "L1.Robusta         0.101493         0.035248            2.879           0.004\n",
       "L1.BRL            -0.092400         0.054679           -1.690           0.091\n",
       "L1.IDR            -0.048945         0.098385           -0.497           0.619\n",
       "L1.WTI             0.939081         0.015210           61.742           0.000\n",
       "L1.Events         -1.493249         1.728725           -0.864           0.388\n",
       "L2.Robusta        -0.094937         0.035223           -2.695           0.007\n",
       "L2.BRL             0.089195         0.054677            1.631           0.103\n",
       "L2.IDR             0.040804         0.098367            0.415           0.678\n",
       "L2.WTI             0.055996         0.015209            3.682           0.000\n",
       "L2.Events          1.669821         1.729070            0.966           0.334\n",
       "=============================================================================\n",
       "\n",
       "Results for equation Events\n",
       "=============================================================================\n",
       "                coefficient       std. error           t-stat            prob\n",
       "-----------------------------------------------------------------------------\n",
       "const             -0.003882         0.005975           -0.650           0.516\n",
       "L1.Robusta        -0.000166         0.000304           -0.545           0.585\n",
       "L1.BRL            -0.000433         0.000472           -0.919           0.358\n",
       "L1.IDR             0.000094         0.000849            0.111           0.912\n",
       "L1.WTI            -0.000041         0.000131           -0.313           0.754\n",
       "L1.Events          0.996144         0.014912           66.803           0.000\n",
       "L2.Robusta         0.000173         0.000304            0.570           0.568\n",
       "L2.BRL             0.000481         0.000472            1.021           0.307\n",
       "L2.IDR            -0.000131         0.000848           -0.154           0.877\n",
       "L2.WTI             0.000057         0.000131            0.436           0.663\n",
       "L2.Events         -0.003323         0.014915           -0.223           0.824\n",
       "=============================================================================\n",
       "\n",
       "Correlation matrix of residuals\n",
       "            Robusta       BRL       IDR       WTI    Events\n",
       "Robusta    1.000000 -0.063660 -0.038083  0.093664  0.007146\n",
       "BRL       -0.063660  1.000000  0.088657 -0.184926 -0.016168\n",
       "IDR       -0.038083  0.088657  1.000000 -0.077212 -0.010474\n",
       "WTI        0.093664 -0.184926 -0.077212  1.000000 -0.005303\n",
       "Events     0.007146 -0.016168 -0.010474 -0.005303  1.000000\n",
       "\n"
      ]
     },
     "execution_count": 8,
     "metadata": {},
     "output_type": "execute_result"
    }
   ],
   "source": [
    "model = VAR(forex)\n",
    "results = model.fit(2)\n",
    "results.summary()"
   ]
  },
  {
   "cell_type": "code",
   "execution_count": 9,
   "metadata": {},
   "outputs": [
    {
     "name": "stdout",
     "output_type": "stream",
     "text": [
      "                 VAR Order Selection                  \n",
      "======================================================\n",
      "            aic          bic          fpe         hqic\n",
      "------------------------------------------------------\n",
      "0         26.42        26.43    2.986e+11        26.42\n",
      "1       -0.1353     -0.09248       0.8735      -0.1202\n",
      "2       -0.1783    -0.09992*       0.8367     -0.1507*\n",
      "3      -0.1821*     -0.06799      0.8336*      -0.1419\n",
      "4       -0.1816     -0.03187       0.8339      -0.1288\n",
      "5       -0.1781     0.007291       0.8369      -0.1128\n",
      "6       -0.1735      0.04751       0.8407     -0.09562\n",
      "7       -0.1699      0.08675       0.8437     -0.07948\n",
      "8       -0.1630       0.1293       0.8496     -0.05999\n",
      "9       -0.1580       0.1700       0.8539     -0.04239\n",
      "10      -0.1545       0.2091       0.8568     -0.02639\n",
      "11      -0.1493       0.2500       0.8613    -0.008580\n",
      "12      -0.1430       0.2919       0.8668      0.01029\n",
      "13      -0.1434       0.3272       0.8665      0.02246\n",
      "14      -0.1349       0.3713       0.8739      0.04352\n",
      "15      -0.1294       0.4124       0.8786      0.06153\n",
      "======================================================\n",
      "* Minimum\n",
      "\n"
     ]
    },
    {
     "data": {
      "text/plain": [
       "{'aic': 3, 'bic': 2, 'fpe': 3, 'hqic': 2}"
      ]
     },
     "execution_count": 9,
     "metadata": {},
     "output_type": "execute_result"
    }
   ],
   "source": [
    "model.select_order(15)"
   ]
  },
  {
   "cell_type": "code",
   "execution_count": 10,
   "metadata": {},
   "outputs": [
    {
     "data": {
      "text/plain": [
       "array([[ 164.57955016,  174.60626767,  187.10635442,  256.48990237,\n",
       "           0.99757596],\n",
       "       [ 164.68025392,  174.65794859,  187.111648  ,  256.35795755,\n",
       "           0.99328525],\n",
       "       [ 164.74364525,  174.63756462,  187.12213717,  256.20631702,\n",
       "           0.98905827],\n",
       "       [ 164.81266966,  174.61382443,  187.12605863,  256.04062934,\n",
       "           0.98495197],\n",
       "       [ 164.88444918,  174.5983158 ,  187.1292983 ,  255.87875464,\n",
       "           0.98085244],\n",
       "       [ 164.95434818,  174.58258734,  187.13317225,  255.71774591,\n",
       "           0.97677404],\n",
       "       [ 165.02333022,  174.56628927,  187.13698683,  255.55697916,\n",
       "           0.97272447],\n",
       "       [ 165.0917986 ,  174.55039417,  187.14065674,  255.39674952,\n",
       "           0.9687012 ],\n",
       "       [ 165.15959971,  174.53483175,  187.14426716,  255.23704588,\n",
       "           0.96470357],\n",
       "       [ 165.22671177,  174.51949921,  187.14781924,  255.07784059,\n",
       "           0.96073174]])"
      ]
     },
     "execution_count": 10,
     "metadata": {},
     "output_type": "execute_result"
    }
   ],
   "source": [
    "results = model.fit(maxlags=15, ic='aic')\n",
    "lag_order = results.k_ar\n",
    "forecasted = results.forecast(forex.values[-lag_order:], 10)\n",
    "forecasted"
   ]
  },
  {
   "cell_type": "code",
   "execution_count": null,
   "metadata": {
    "collapsed": true
   },
   "outputs": [],
   "source": []
  }
 ],
 "metadata": {
  "kernelspec": {
   "display_name": "Python 3",
   "language": "python",
   "name": "python3"
  },
  "language_info": {
   "codemirror_mode": {
    "name": "ipython",
    "version": 3
   },
   "file_extension": ".py",
   "mimetype": "text/x-python",
   "name": "python",
   "nbconvert_exporter": "python",
   "pygments_lexer": "ipython3",
   "version": "3.6.3"
  }
 },
 "nbformat": 4,
 "nbformat_minor": 2
}
